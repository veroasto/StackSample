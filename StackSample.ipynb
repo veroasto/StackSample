{
  "nbformat": 4,
  "nbformat_minor": 0,
  "metadata": {
    "colab": {
      "name": "StackSample_venerdi.ipynb",
      "provenance": [],
      "collapsed_sections": []
    },
    "kernelspec": {
      "name": "python3",
      "display_name": "Python 3"
    },
    "language_info": {
      "name": "python"
    }
  },
  "cells": [
    {
      "cell_type": "code",
      "metadata": {
        "colab": {
          "resources": {
            "http://localhost:8080/nbextensions/google.colab/files.js": {
              "data": "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",
              "ok": true,
              "headers": [
                [
                  "content-type",
                  "application/javascript"
                ]
              ],
              "status": 200,
              "status_text": ""
            }
          },
          "base_uri": "https://localhost:8080/",
          "height": 100
        },
        "id": "MGtpGEefXeLB",
        "outputId": "a4cdabda-b882-4dea-c091-23b8d819dd11"
      },
      "source": [
        "!pip install -q kaggle\n",
        "from google.colab import files\n",
        "files.upload()"
      ],
      "execution_count": 1,
      "outputs": [
        {
          "output_type": "display_data",
          "data": {
            "text/html": [
              "\n",
              "     <input type=\"file\" id=\"files-59d7c66b-68c3-4af4-b043-80b666ee1da6\" name=\"files[]\" multiple disabled\n",
              "        style=\"border:none\" />\n",
              "     <output id=\"result-59d7c66b-68c3-4af4-b043-80b666ee1da6\">\n",
              "      Upload widget is only available when the cell has been executed in the\n",
              "      current browser session. Please rerun this cell to enable.\n",
              "      </output>\n",
              "      <script src=\"/nbextensions/google.colab/files.js\"></script> "
            ],
            "text/plain": [
              "<IPython.core.display.HTML object>"
            ]
          },
          "metadata": {
            "tags": []
          }
        },
        {
          "output_type": "stream",
          "text": [
            "Saving kaggle.json to kaggle (2).json\n"
          ],
          "name": "stdout"
        },
        {
          "output_type": "execute_result",
          "data": {
            "text/plain": [
              "{'kaggle.json': b'{\"username\":\"veronicaastorino\",\"key\":\"d70bec0f4a36fef2eb100d1b63c71351\"}'}"
            ]
          },
          "metadata": {
            "tags": []
          },
          "execution_count": 1
        }
      ]
    },
    {
      "cell_type": "code",
      "metadata": {
        "id": "s_IiFb-TXiN6",
        "colab": {
          "base_uri": "https://localhost:8080/"
        },
        "outputId": "d9be7295-1d16-4781-98e0-066c8063db62"
      },
      "source": [
        "! mkdir ~/.kaggle\n",
        "! cp kaggle.json ~/.kaggle/\n",
        "! chmod 600 ~/.kaggle/kaggle.json"
      ],
      "execution_count": 2,
      "outputs": [
        {
          "output_type": "stream",
          "text": [
            "mkdir: cannot create directory ‘/root/.kaggle’: File exists\n"
          ],
          "name": "stdout"
        }
      ]
    },
    {
      "cell_type": "code",
      "metadata": {
        "colab": {
          "base_uri": "https://localhost:8080/"
        },
        "id": "odGm6rUvXiJm",
        "outputId": "4ae8140b-99ae-4441-b671-38d215c35a84"
      },
      "source": [
        "!kaggle datasets download -d stackoverflow/stacksample -p ./data"
      ],
      "execution_count": 3,
      "outputs": [
        {
          "output_type": "stream",
          "text": [
            "stacksample.zip: Skipping, found more recently modified local copy (use --force to force download)\n"
          ],
          "name": "stdout"
        }
      ]
    },
    {
      "cell_type": "code",
      "metadata": {
        "colab": {
          "base_uri": "https://localhost:8080/"
        },
        "id": "FOMTg6QJXmci",
        "outputId": "cd416ac3-a5d9-47c6-86a4-f9caf32bef62"
      },
      "source": [
        "!unzip ./data/stacksample.zip"
      ],
      "execution_count": 4,
      "outputs": [
        {
          "output_type": "stream",
          "text": [
            "Archive:  ./data/stacksample.zip\n",
            "replace Answers.csv? [y]es, [n]o, [A]ll, [N]one, [r]ename: no\n",
            "replace Questions.csv? [y]es, [n]o, [A]ll, [N]one, [r]ename: no\n",
            "replace Tags.csv? [y]es, [n]o, [A]ll, [N]one, [r]ename: no\n"
          ],
          "name": "stdout"
        }
      ]
    },
    {
      "cell_type": "code",
      "metadata": {
        "id": "5GEGqgLXXoTf",
        "colab": {
          "base_uri": "https://localhost:8080/"
        },
        "outputId": "d774521d-31e6-424c-eb25-6c099f778e24"
      },
      "source": [
        "!apt-get install openjdk-8-jdk-headless -qq > /dev/null\n",
        "!wget -q https://www-us.apache.org/dist/spark/spark-3.1.1/spark-3.1.1-bin-hadoop2.7.tgz \n",
        "!tar xf spark-3.1.1-bin-hadoop2.7.tgz\n",
        "\n",
        "!pip install -q findspark\n",
        "!pip install pyspark"
      ],
      "execution_count": 5,
      "outputs": [
        {
          "output_type": "stream",
          "text": [
            "Requirement already satisfied: pyspark in /usr/local/lib/python3.7/dist-packages (3.1.2)\n",
            "Requirement already satisfied: py4j==0.10.9 in /usr/local/lib/python3.7/dist-packages (from pyspark) (0.10.9)\n"
          ],
          "name": "stdout"
        }
      ]
    },
    {
      "cell_type": "code",
      "metadata": {
        "id": "NJwbiJk6XqHO"
      },
      "source": [
        "import os\n",
        "os.environ[\"JAVA_HOME\"] = \"/usr/lib/jvm/java-8-openjdk-amd64\"\n",
        "os.environ[\"SPARK_HOME\"] = \"/content/spark-3.1.1-bin-hadoop2.7\""
      ],
      "execution_count": 6,
      "outputs": []
    },
    {
      "cell_type": "code",
      "metadata": {
        "id": "KAml0ty_Xu1e"
      },
      "source": [
        "!apt-get install openjdk-8-jdk-headless -qq > /dev/null\n",
        "!wget -q http://www-eu.apache.org/dist/spark/spark-3.1.1/spark-3.1.1-bin-hadoop2.7.tgz\n",
        "!tar xf spark-3.1.1-bin-hadoop2.7.tgz\n",
        "!pip install -q findspark"
      ],
      "execution_count": 7,
      "outputs": []
    },
    {
      "cell_type": "code",
      "metadata": {
        "id": "8kQ9dxvXXiFM"
      },
      "source": [
        "import findspark\n",
        "findspark.init(\"spark-3.1.1-bin-hadoop2.7\")\n",
        "from pyspark.sql import SparkSession\n",
        "\n",
        "spark = SparkSession.builder\\\n",
        "      .master(\"local\")\\\n",
        "        .appName(\"similaritems\")\\\n",
        "        .config('spark.ui.port', '4050')\\\n",
        "        .config(\"spark.driver.memory\", \"2g\") \\\n",
        "        .config(\"spark.sql.broadcastTimeout\", \"10h\") \\\n",
        "        .config(\"spark.executor.memory\", \"10g\") \\\n",
        "        .config('spark.sql.shuffle.partitions', '3') \\\n",
        "        .config(\"spark.sql.execution.arrow.enabled\",\"true\") \\\n",
        "        .getOrCreate()\n",
        "\n",
        "sc = spark.sparkContext"
      ],
      "execution_count": 8,
      "outputs": []
    },
    {
      "cell_type": "code",
      "metadata": {
        "id": "PVcBD5Zu6G_n",
        "colab": {
          "base_uri": "https://localhost:8080/"
        },
        "outputId": "d925223a-5bcb-463d-c442-1f9bf95d988f"
      },
      "source": [
        "df = spark.read\\\n",
        "  .option(\"multiLine\", \"true\")\\\n",
        "  .option(\"header\", \"true\")\\\n",
        "  .option(\"escape\", \"\\\"\")\\\n",
        "  .csv(\"Questions.csv\")\\\n",
        "  .select(\"Id\",\"Body\")\n",
        "\n",
        "df.show(10)"
      ],
      "execution_count": 9,
      "outputs": [
        {
          "output_type": "stream",
          "text": [
            "+---+--------------------+\n",
            "| Id|                Body|\n",
            "+---+--------------------+\n",
            "| 80|<p>I've written a...|\n",
            "| 90|<p>Are there any ...|\n",
            "|120|<p>Has anyone got...|\n",
            "|180|<p>This is someth...|\n",
            "|260|<p>I have a littl...|\n",
            "|330|<p>I am working o...|\n",
            "|470|<p>I've been writ...|\n",
            "|580|<p>I wonder how y...|\n",
            "|650|<p>I would like t...|\n",
            "|810|<p>I'm trying to ...|\n",
            "+---+--------------------+\n",
            "only showing top 10 rows\n",
            "\n"
          ],
          "name": "stdout"
        }
      ]
    },
    {
      "cell_type": "code",
      "metadata": {
        "id": "tnb3sVNcerAG",
        "colab": {
          "base_uri": "https://localhost:8080/"
        },
        "outputId": "da86d363-adc3-4f19-885e-20add34b3351"
      },
      "source": [
        "# Check for missing values\n",
        "from pyspark.sql.functions import isnan, when, count, col\n",
        "df.select([count(when(isnan(c) | col(c).isNull(), c)).alias(c) for c in df.columns]).show()"
      ],
      "execution_count": 10,
      "outputs": [
        {
          "output_type": "stream",
          "text": [
            "+---+----+\n",
            "| Id|Body|\n",
            "+---+----+\n",
            "|  0|   0|\n",
            "+---+----+\n",
            "\n"
          ],
          "name": "stdout"
        }
      ]
    },
    {
      "cell_type": "code",
      "metadata": {
        "id": "1EKszsJTYqYC",
        "colab": {
          "base_uri": "https://localhost:8080/"
        },
        "outputId": "30664e16-b3bc-4936-a454-aea02e7c216f"
      },
      "source": [
        "df.count()"
      ],
      "execution_count": 11,
      "outputs": [
        {
          "output_type": "execute_result",
          "data": {
            "text/plain": [
              "1264216"
            ]
          },
          "metadata": {
            "tags": []
          },
          "execution_count": 11
        }
      ]
    },
    {
      "cell_type": "code",
      "metadata": {
        "id": "z7h7r5RAYvF5"
      },
      "source": [
        "# Clean Text\n",
        "from pyspark.sql.functions import col, lower, regexp_replace, split\n",
        "\n",
        "def clean_text(c):\n",
        "  c = lower(c)\n",
        "  c = regexp_replace(c, \"^rt \", \"\")\n",
        "  c = regexp_replace(c, \"<p>\", \"\")\n",
        "  c = regexp_replace(c, \"</p>\", \"\")\n",
        "  c = regexp_replace(c, \"(https?\\://)\\S+\", \"\")\n",
        "  c = regexp_replace(c, \"[^a-zA-Z0-9\\\\s]\", \"\")\n",
        "  return c\n",
        "\n",
        "clean_text_df = df.select('Id',clean_text(col(\"Body\")).alias(\"Body\"))"
      ],
      "execution_count": 12,
      "outputs": []
    },
    {
      "cell_type": "code",
      "metadata": {
        "id": "MFCUQBxBY1Td",
        "colab": {
          "base_uri": "https://localhost:8080/"
        },
        "outputId": "da952a0d-381f-43db-d653-1a5b283ae55d"
      },
      "source": [
        "clean_text_df.show()"
      ],
      "execution_count": 13,
      "outputs": [
        {
          "output_type": "stream",
          "text": [
            "+----+--------------------+\n",
            "|  Id|                Body|\n",
            "+----+--------------------+\n",
            "|  80|ive written a dat...|\n",
            "|  90|are there any rea...|\n",
            "| 120|has anyone got ex...|\n",
            "| 180|this is something...|\n",
            "| 260|i have a little g...|\n",
            "| 330|i am working on a...|\n",
            "| 470|ive been writing ...|\n",
            "| 580|i wonder how you ...|\n",
            "| 650|i would like the ...|\n",
            "| 810|im trying to main...|\n",
            "| 930|whats the simples...|\n",
            "|1010|i need to grab th...|\n",
            "|1040|im looking for a ...|\n",
            "|1070|what is the corre...|\n",
            "|1160|i am using ccnet ...|\n",
            "|1180|i am looking to a...|\n",
            "|1300|i am using msbuil...|\n",
            "|1390|im setting up a d...|\n",
            "|1600|i always create a...|\n",
            "|1610|if im adding a co...|\n",
            "+----+--------------------+\n",
            "only showing top 20 rows\n",
            "\n"
          ],
          "name": "stdout"
        }
      ]
    },
    {
      "cell_type": "code",
      "metadata": {
        "id": "d2B5ME7T6zT7",
        "colab": {
          "base_uri": "https://localhost:8080/"
        },
        "outputId": "2d93f6fc-2831-4892-9a0b-78b91475fc4e"
      },
      "source": [
        "# Tokenizer text\n",
        "from pyspark.ml.feature import Tokenizer\n",
        "\n",
        "tokenizer = Tokenizer(inputCol=\"Body\", outputCol=\"vector\")\n",
        "vector_df = tokenizer.transform(clean_text_df)\n",
        "\n",
        "vector_df.printSchema()\n",
        "vector_df.show(10)"
      ],
      "execution_count": 14,
      "outputs": [
        {
          "output_type": "stream",
          "text": [
            "root\n",
            " |-- Id: string (nullable = true)\n",
            " |-- Body: string (nullable = true)\n",
            " |-- vector: array (nullable = true)\n",
            " |    |-- element: string (containsNull = true)\n",
            "\n",
            "+---+--------------------+--------------------+\n",
            "| Id|                Body|              vector|\n",
            "+---+--------------------+--------------------+\n",
            "| 80|ive written a dat...|[ive, written, a,...|\n",
            "| 90|are there any rea...|[are, there, any,...|\n",
            "|120|has anyone got ex...|[has, anyone, got...|\n",
            "|180|this is something...|[this, is, someth...|\n",
            "|260|i have a little g...|[i, have, a, litt...|\n",
            "|330|i am working on a...|[i, am, working, ...|\n",
            "|470|ive been writing ...|[ive, been, writi...|\n",
            "|580|i wonder how you ...|[i, wonder, how, ...|\n",
            "|650|i would like the ...|[i, would, like, ...|\n",
            "|810|im trying to main...|[im, trying, to, ...|\n",
            "+---+--------------------+--------------------+\n",
            "only showing top 10 rows\n",
            "\n"
          ],
          "name": "stdout"
        }
      ]
    },
    {
      "cell_type": "code",
      "metadata": {
        "id": "XkLy-z4x7GyI",
        "colab": {
          "base_uri": "https://localhost:8080/"
        },
        "outputId": "d41392db-09f7-4edb-8ded-b0bfab5534bb"
      },
      "source": [
        "# Removing stopwords\n",
        "from pyspark.ml.feature import StopWordsRemover\n",
        "\n",
        "remover = StopWordsRemover()\n",
        "stopwords = remover.getStopWords() \n",
        "\n",
        "# Display default list\n",
        "stopwords[:10]"
      ],
      "execution_count": 15,
      "outputs": [
        {
          "output_type": "execute_result",
          "data": {
            "text/plain": [
              "['i', 'me', 'my', 'myself', 'we', 'our', 'ours', 'ourselves', 'you', 'your']"
            ]
          },
          "metadata": {
            "tags": []
          },
          "execution_count": 15
        }
      ]
    },
    {
      "cell_type": "code",
      "metadata": {
        "id": "cJVbLDsP7LDg",
        "colab": {
          "base_uri": "https://localhost:8080/"
        },
        "outputId": "a6aa3c63-477f-4e1e-901c-8be01bbac5b8"
      },
      "source": [
        "# Specify input/output columns\n",
        "remover.setInputCol(\"vector\")\n",
        "remover.setOutputCol(\"vector_no_stopw\")\n",
        "\n",
        "# Transform existing dataframe with the StopWordsRemover\n",
        "vector_no_stopw_df = remover.transform(vector_df)\n",
        "\n",
        "# Display\n",
        "vector_no_stopw_df.printSchema()\n",
        "vector_no_stopw_df.show()"
      ],
      "execution_count": 16,
      "outputs": [
        {
          "output_type": "stream",
          "text": [
            "root\n",
            " |-- Id: string (nullable = true)\n",
            " |-- Body: string (nullable = true)\n",
            " |-- vector: array (nullable = true)\n",
            " |    |-- element: string (containsNull = true)\n",
            " |-- vector_no_stopw: array (nullable = true)\n",
            " |    |-- element: string (containsNull = true)\n",
            "\n",
            "+----+--------------------+--------------------+--------------------+\n",
            "|  Id|                Body|              vector|     vector_no_stopw|\n",
            "+----+--------------------+--------------------+--------------------+\n",
            "|  80|ive written a dat...|[ive, written, a,...|[ive, written, da...|\n",
            "|  90|are there any rea...|[are, there, any,...|[really, good, tu...|\n",
            "| 120|has anyone got ex...|[has, anyone, got...|[anyone, got, exp...|\n",
            "| 180|this is something...|[this, is, someth...|[something, ive, ...|\n",
            "| 260|i have a little g...|[i, have, a, litt...|[little, game, wr...|\n",
            "| 330|i am working on a...|[i, am, working, ...|[working, collect...|\n",
            "| 470|ive been writing ...|[ive, been, writi...|[ive, writing, we...|\n",
            "| 580|i wonder how you ...|[i, wonder, how, ...|[wonder, guys, ma...|\n",
            "| 650|i would like the ...|[i, would, like, ...|[like, version, p...|\n",
            "| 810|im trying to main...|[im, trying, to, ...|[im, trying, main...|\n",
            "| 930|whats the simples...|[whats, the, simp...|[whats, simplest,...|\n",
            "|1010|i need to grab th...|[i, need, to, gra...|[need, grab, base...|\n",
            "|1040|im looking for a ...|[im, looking, for...|[im, looking, way...|\n",
            "|1070|what is the corre...|[what, is, the, c...|[correct, way, ge...|\n",
            "|1160|i am using ccnet ...|[i, am, using, cc...|[using, ccnet, sa...|\n",
            "|1180|i am looking to a...|[i, am, looking, ...|[looking, allow, ...|\n",
            "|1300|i am using msbuil...|[i, am, using, ms...|[using, msbuild, ...|\n",
            "|1390|im setting up a d...|[im, setting, up,...|[im, setting, ded...|\n",
            "|1600|i always create a...|[i, always, creat...|[always, create, ...|\n",
            "|1610|if im adding a co...|[if, im, adding, ...|[im, adding, colu...|\n",
            "+----+--------------------+--------------------+--------------------+\n",
            "only showing top 20 rows\n",
            "\n"
          ],
          "name": "stdout"
        }
      ]
    },
    {
      "cell_type": "code",
      "metadata": {
        "id": "2wdzPb7U7N-A",
        "colab": {
          "base_uri": "https://localhost:8080/"
        },
        "outputId": "0b98d4af-f8c2-4125-fcd8-69c53f7cc17f"
      },
      "source": [
        "# TF-IDF with HashingTF\n",
        "from pyspark.ml.feature import HashingTF, IDF, Tokenizer\n",
        "hashingTF = HashingTF(inputCol=\"vector_no_stopw\", outputCol=\"rawFeatures\", numFeatures=100000)\n",
        "\n",
        "featurized_data = hashingTF.transform(vector_no_stopw_df)\n",
        "idf = IDF(inputCol=\"rawFeatures\", outputCol=\"features\")\n",
        "idfModel = idf.fit(featurized_data)\n",
        "TfIdfData = idfModel.transform(featurized_data)\n",
        "TfIdfData.show()"
      ],
      "execution_count": 17,
      "outputs": [
        {
          "output_type": "stream",
          "text": [
            "+----+--------------------+--------------------+--------------------+--------------------+--------------------+\n",
            "|  Id|                Body|              vector|     vector_no_stopw|         rawFeatures|            features|\n",
            "+----+--------------------+--------------------+--------------------+--------------------+--------------------+\n",
            "|  80|ive written a dat...|[ive, written, a,...|[ive, written, da...|(100000,[585,3835...|(100000,[585,3835...|\n",
            "|  90|are there any rea...|[are, there, any,...|[really, good, tu...|(100000,[2543,162...|(100000,[2543,162...|\n",
            "| 120|has anyone got ex...|[has, anyone, got...|[anyone, got, exp...|(100000,[2143,399...|(100000,[2143,399...|\n",
            "| 180|this is something...|[this, is, someth...|[something, ive, ...|(100000,[6056,606...|(100000,[6056,606...|\n",
            "| 260|i have a little g...|[i, have, a, litt...|[little, game, wr...|(100000,[585,2144...|(100000,[585,2144...|\n",
            "| 330|i am working on a...|[i, am, working, ...|[working, collect...|(100000,[585,2869...|(100000,[585,2869...|\n",
            "| 470|ive been writing ...|[ive, been, writi...|[ive, writing, we...|(100000,[853,2252...|(100000,[853,2252...|\n",
            "| 580|i wonder how you ...|[i, wonder, how, ...|[wonder, guys, ma...|(100000,[4023,471...|(100000,[4023,471...|\n",
            "| 650|i would like the ...|[i, would, like, ...|[like, version, p...|(100000,[2143,280...|(100000,[2143,280...|\n",
            "| 810|im trying to main...|[im, trying, to, ...|[im, trying, main...|(100000,[1915,214...|(100000,[1915,214...|\n",
            "| 930|whats the simples...|[whats, the, simp...|[whats, simplest,...|(100000,[13768,32...|(100000,[13768,32...|\n",
            "|1010|i need to grab th...|[i, need, to, gra...|[need, grab, base...|(100000,[2475,254...|(100000,[2475,254...|\n",
            "|1040|im looking for a ...|[im, looking, for...|[im, looking, way...|(100000,[8040,109...|(100000,[8040,109...|\n",
            "|1070|what is the corre...|[what, is, the, c...|[correct, way, ge...|(100000,[8040,163...|(100000,[8040,163...|\n",
            "|1160|i am using ccnet ...|[i, am, using, cc...|[using, ccnet, sa...|(100000,[9656,104...|(100000,[9656,104...|\n",
            "|1180|i am looking to a...|[i, am, looking, ...|[looking, allow, ...|(100000,[1463,247...|(100000,[1463,247...|\n",
            "|1300|i am using msbuil...|[i, am, using, ms...|[using, msbuild, ...|(100000,[4023,605...|(100000,[4023,605...|\n",
            "|1390|im setting up a d...|[im, setting, up,...|[im, setting, ded...|(100000,[4023,937...|(100000,[4023,937...|\n",
            "|1600|i always create a...|[i, always, creat...|[always, create, ...|(100000,[585,9530...|(100000,[585,9530...|\n",
            "|1610|if im adding a co...|[if, im, adding, ...|[im, adding, colu...|(100000,[4023,831...|(100000,[4023,831...|\n",
            "+----+--------------------+--------------------+--------------------+--------------------+--------------------+\n",
            "only showing top 20 rows\n",
            "\n"
          ],
          "name": "stdout"
        }
      ]
    },
    {
      "cell_type": "code",
      "metadata": {
        "id": "DOjS3WuN7eJy",
        "colab": {
          "base_uri": "https://localhost:8080/"
        },
        "outputId": "9113233e-8c8b-4ced-9c63-0f3a838250b8"
      },
      "source": [
        "# MinHashLSH\n",
        "from pyspark.ml.feature import MinHashLSH\n",
        "mh = MinHashLSH(inputCol=\"features\", outputCol=\"hashes\", numHashTables=1000)\n",
        "LSHmodel = mh.fit(TfIdfData)\n",
        "\n",
        "LSH = LSHmodel.transform(TfIdfData)\n",
        "LSH.show()"
      ],
      "execution_count": 18,
      "outputs": [
        {
          "output_type": "stream",
          "text": [
            "+----+--------------------+--------------------+--------------------+--------------------+--------------------+--------------------+\n",
            "|  Id|                Body|              vector|     vector_no_stopw|         rawFeatures|            features|              hashes|\n",
            "+----+--------------------+--------------------+--------------------+--------------------+--------------------+--------------------+\n",
            "|  80|ive written a dat...|[ive, written, a,...|[ive, written, da...|(100000,[585,3835...|(100000,[585,3835...|[[1.8924956E7], [...|\n",
            "|  90|are there any rea...|[are, there, any,...|[really, good, tu...|(100000,[2543,162...|(100000,[2543,162...|[[7.5910755E7], [...|\n",
            "| 120|has anyone got ex...|[has, anyone, got...|[anyone, got, exp...|(100000,[2143,399...|(100000,[2143,399...|[[2.2088109E7], [...|\n",
            "| 180|this is something...|[this, is, someth...|[something, ive, ...|(100000,[6056,606...|(100000,[6056,606...|[[7.6857533E7], [...|\n",
            "| 260|i have a little g...|[i, have, a, litt...|[little, game, wr...|(100000,[585,2144...|(100000,[585,2144...|[[2.7653569E7], [...|\n",
            "| 330|i am working on a...|[i, am, working, ...|[working, collect...|(100000,[585,2869...|(100000,[585,2869...|[[5.3419062E7], [...|\n",
            "| 470|ive been writing ...|[ive, been, writi...|[ive, writing, we...|(100000,[853,2252...|(100000,[853,2252...|[[6.256346E7], [2...|\n",
            "| 580|i wonder how you ...|[i, wonder, how, ...|[wonder, guys, ma...|(100000,[4023,471...|(100000,[4023,471...|[[1.6252873E7], [...|\n",
            "| 650|i would like the ...|[i, would, like, ...|[like, version, p...|(100000,[2143,280...|(100000,[2143,280...|[[1.9889415E7], [...|\n",
            "| 810|im trying to main...|[im, trying, to, ...|[im, trying, main...|(100000,[1915,214...|(100000,[1915,214...|[[5816636.0], [2....|\n",
            "| 930|whats the simples...|[whats, the, simp...|[whats, simplest,...|(100000,[13768,32...|(100000,[13768,32...|[[3.258195E7], [1...|\n",
            "|1010|i need to grab th...|[i, need, to, gra...|[need, grab, base...|(100000,[2475,254...|(100000,[2475,254...|[[4.585396E7], [2...|\n",
            "|1040|im looking for a ...|[im, looking, for...|[im, looking, way...|(100000,[8040,109...|(100000,[8040,109...|[[9.6712505E7], [...|\n",
            "|1070|what is the corre...|[what, is, the, c...|[correct, way, ge...|(100000,[8040,163...|(100000,[8040,163...|[[1.81574086E8], ...|\n",
            "|1160|i am using ccnet ...|[i, am, using, cc...|[using, ccnet, sa...|(100000,[9656,104...|(100000,[9656,104...|[[1.8106506E7], [...|\n",
            "|1180|i am looking to a...|[i, am, looking, ...|[looking, allow, ...|(100000,[1463,247...|(100000,[1463,247...|[[1.11457725E8], ...|\n",
            "|1300|i am using msbuil...|[i, am, using, ms...|[using, msbuild, ...|(100000,[4023,605...|(100000,[4023,605...|[[1.7743764E7], [...|\n",
            "|1390|im setting up a d...|[im, setting, up,...|[im, setting, ded...|(100000,[4023,937...|(100000,[4023,937...|[[3.9762068E7], [...|\n",
            "|1600|i always create a...|[i, always, creat...|[always, create, ...|(100000,[585,9530...|(100000,[585,9530...|[[1.81574086E8], ...|\n",
            "|1610|if im adding a co...|[if, im, adding, ...|[im, adding, colu...|(100000,[4023,831...|(100000,[4023,831...|[[6.256346E7], [2...|\n",
            "+----+--------------------+--------------------+--------------------+--------------------+--------------------+--------------------+\n",
            "only showing top 20 rows\n",
            "\n"
          ],
          "name": "stdout"
        }
      ]
    },
    {
      "cell_type": "code",
      "metadata": {
        "id": "AFXoeTk9ARew",
        "colab": {
          "base_uri": "https://localhost:8080/",
          "height": 141
        },
        "outputId": "23449532-b955-49e2-d860-3c7977968d57"
      },
      "source": [
        "from pyspark.sql.functions import col\n",
        "TfIdfData.select('Body').take(1)[0][0]"
      ],
      "execution_count": 19,
      "outputs": [
        {
          "output_type": "execute_result",
          "data": {
            "application/vnd.google.colaboratory.intrinsic+json": {
              "type": "string"
            },
            "text/plain": [
              "'ive written a database generation script in a href and want to execute it in my a href aira application\\n\\nprecodecreate table trole \\n      roleid integer primary key\\n      rolename varchar40\\n\\ncreate table tfile \\n    fileid integer primary key\\n    filename varchar50\\n    filedescription varchar500\\n    thumbnailid integer\\n    fileformatid integer\\n    categoryid integer\\n    isfavorite boolean\\n    dateadded date\\n    globalaccesscount integer\\n    lastaccesstime date\\n    downloadcomplete boolean\\n    isnew boolean\\n    isspotlight boolean\\n    duration varchar30\\n\\ncreate table tcategory \\n    categoryid integer primary key\\n    categoryname varchar50\\n    parentcategoryid integer\\n\\n\\ncodepre\\n\\ni execute this in adobe air using the following methods\\n\\nprecodepublic static function runsqlfromfilefilenamestringvoid \\n    var filefile  fileapplicationdirectoryresolvepathfilename\\n    var streamfilestream  new filestream\\n    streamopenfile filemoderead\\n    var strsqlstring  streamreadutfbytesstreambytesavailable\\n    nonquerystrsql\\n\\n\\npublic static function nonquerystrsqlstringvoid\\n\\n    var sqlconnectionsqlconnection  new sqlconnection\\n    sqlconnectionopenfileapplicationstoragedirectoryresolvepathdbpath\\n    var sqlstatementsqlstatement  new sqlstatement\\n    sqlstatementtext  strsql\\n    sqlstatementsqlconnection  sqlconnection\\n    try\\n    \\n        sqlstatementexecute\\n    \\n    catch errorsqlerror\\n    \\n        alertshowerrortostring\\n    \\n\\ncodepre\\n\\nno errors are generated however only codetrolecode exists it seems that it only looks at the first query up to the semicolon if i remove it the query fails is there a way to call multiple queries in one statement\\n'"
            ]
          },
          "metadata": {
            "tags": []
          },
          "execution_count": 19
        }
      ]
    },
    {
      "cell_type": "code",
      "metadata": {
        "id": "IHfMcmxR7ypg",
        "colab": {
          "base_uri": "https://localhost:8080/"
        },
        "outputId": "faa93d6e-cf50-4d0e-8341-52f08d9a0d6c"
      },
      "source": [
        "key = TfIdfData.select('features').take(1)\n",
        "key"
      ],
      "execution_count": 20,
      "outputs": [
        {
          "output_type": "execute_result",
          "data": {
            "text/plain": [
              "[Row(features=SparseVector(100000, {585: 4.318, 3835: 8.089, 4967: 2.9923, 5563: 8.9624, 5629: 8.9686, 9348: 1.8802, 10268: 8.9142, 10960: 1.1156, 11398: 8.938, 11404: 4.404, 11834: 3.6739, 12693: 12.7285, 14128: 7.9319, 15108: 8.932, 15223: 8.8242, 15662: 7.6692, 17712: 1.3185, 19012: 9.1521, 19812: 3.9605, 20269: 7.5293, 20769: 8.4081, 21770: 2.2645, 24833: 5.6486, 26313: 3.7736, 26523: 4.5205, 27531: 8.5735, 27949: 3.5499, 29216: 4.6605, 32535: 4.6344, 32857: 7.9209, 32858: 2.7265, 33420: 13.8781, 34488: 8.9025, 34792: 3.6956, 35146: 2.5943, 36712: 6.82, 36963: 6.0981, 37126: 32.7503, 40088: 6.7007, 40959: 9.1521, 43931: 7.8268, 46536: 3.5043, 48201: 4.145, 48382: 2.3605, 49453: 3.0772, 51174: 3.8357, 52887: 15.7319, 53131: 9.7581, 54617: 8.1949, 54693: 2.2981, 55039: 6.017, 56723: 12.232, 59427: 9.0195, 59936: 8.2661, 62891: 6.7488, 63673: 7.6991, 65432: 3.2491, 65528: 9.046, 66133: 13.6519, 66537: 8.2569, 67140: 9.1902, 68012: 7.202, 68619: 2.7382, 69129: 0.7928, 70815: 1.6764, 70911: 2.316, 70980: 6.6228, 71873: 13.4015, 74071: 8.926, 74694: 4.1771, 76602: 8.2064, 77513: 7.893, 77698: 8.561, 77826: 8.8082, 79058: 7.3201, 79737: 7.6251, 79817: 3.7969, 80592: 3.3026, 80960: 8.9937, 81030: 7.8638, 81311: 7.7733, 81988: 5.9817, 82080: 3.576, 86036: 8.6206, 86158: 7.103, 86403: 2.2054, 86661: 7.1175, 88325: 8.7617, 89391: 1.673, 89661: 3.0551, 91328: 8.6747, 93372: 10.5713, 93584: 8.4152, 94680: 6.8737, 95033: 5.8276, 95100: 7.6973, 98902: 8.8082, 99432: 2.1306}))]"
            ]
          },
          "metadata": {
            "tags": []
          },
          "execution_count": 20
        }
      ]
    },
    {
      "cell_type": "code",
      "metadata": {
        "id": "lnsQYTQyXuue",
        "colab": {
          "base_uri": "https://localhost:8080/"
        },
        "outputId": "15e0c62e-18ba-4fff-f2a7-3b39f604d121"
      },
      "source": [
        "# Perform approximate nearest neighbor search\n",
        "similar=LSHmodel.approxNearestNeighbors(TfIdfData, key[0][0], 10)\n",
        "similar.show()"
      ],
      "execution_count": 21,
      "outputs": [
        {
          "output_type": "stream",
          "text": [
            "+--------+--------------------+--------------------+--------------------+--------------------+--------------------+--------------------+------------------+\n",
            "|      Id|                Body|              vector|     vector_no_stopw|         rawFeatures|            features|              hashes|           distCol|\n",
            "+--------+--------------------+--------------------+--------------------+--------------------+--------------------+--------------------+------------------+\n",
            "|      80|ive written a dat...|[ive, written, a,...|[ive, written, da...|(100000,[585,3835...|(100000,[585,3835...|[[1.8924956E7], [...|               0.0|\n",
            "| 7882580|i am facing probl...|[i, am, facing, p...|[facing, problem,...|(100000,[585,1666...|(100000,[585,1666...|[[1.8924956E7], [...|0.8707482993197279|\n",
            "| 6270600|i am writing some...|[i, am, writing, ...|[writing, code, p...|(100000,[495,585,...|(100000,[495,585,...|[[2.2853516E7], [...|0.8733333333333333|\n",
            "|28078370|im using flask sq...|[im, using, flask...|[im, using, flask...|(100000,[585,853,...|(100000,[585,853,...|[[1.8106506E7], [...|0.8780487804878049|\n",
            "|27181090|i am creating my ...|[i, am, creating,...|[creating, query,...|(100000,[49,190,2...|(100000,[49,190,2...|[[2.2853516E7], [...|0.8789808917197452|\n",
            "|38540200|i am trying to cr...|[i, am, trying, t...|[trying, create, ...|(100000,[262,585,...|(100000,[262,585,...|[[706884.0], [506...|0.8829787234042553|\n",
            "| 9401150|i have a question...|[i, have, a, ques...|[question, generi...|(100000,[585,3011...|(100000,[585,3011...|[[7816278.0], [2....|0.8838709677419355|\n",
            "| 9284920|im creating an sq...|[im, creating, an...|[im, creating, sq...|(100000,[495,585,...|(100000,[495,585,...|[[3.6470587E7], [...|0.8846153846153846|\n",
            "|21394410|there are several...|[there, are, seve...|[several, stateme...|(100000,[585,3717...|(100000,[585,3717...|[[1.8924956E7], [...|0.8869047619047619|\n",
            "|  317190|i am using the a ...|[i, am, using, th...|[using, href, rel...|(100000,[4420,496...|(100000,[4420,496...|[[1.8924956E7], [...|0.8874172185430463|\n",
            "+--------+--------------------+--------------------+--------------------+--------------------+--------------------+--------------------+------------------+\n",
            "\n"
          ],
          "name": "stdout"
        }
      ]
    },
    {
      "cell_type": "code",
      "metadata": {
        "id": "hWT--ngUOV6W"
      },
      "source": [
        "similar.select('Body').show(truncate=False)"
      ],
      "execution_count": null,
      "outputs": []
    }
  ]
}