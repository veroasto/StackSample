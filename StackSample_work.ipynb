{
  "nbformat": 4,
  "nbformat_minor": 0,
  "metadata": {
    "colab": {
      "name": "StackSample_work.ipynb",
      "provenance": [],
      "collapsed_sections": []
    },
    "kernelspec": {
      "display_name": "Python 3",
      "name": "python3"
    },
    "language_info": {
      "name": "python"
    }
  },
  "cells": [
    {
      "cell_type": "code",
      "metadata": {
        "colab": {
          "resources": {
            "http://localhost:8080/nbextensions/google.colab/files.js": {
              "data": "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",
              "headers": [
                [
                  "content-type",
                  "application/javascript"
                ]
              ],
              "ok": true,
              "status": 200,
              "status_text": ""
            }
          },
          "base_uri": "https://localhost:8080/",
          "height": 100
        },
        "id": "MGtpGEefXeLB",
        "outputId": "23f354a0-59ff-4670-9939-574c8a20560d"
      },
      "source": [
        "!pip install -q kaggle\n",
        "from google.colab import files\n",
        "files.upload()"
      ],
      "execution_count": null,
      "outputs": [
        {
          "output_type": "display_data",
          "data": {
            "text/html": [
              "\n",
              "     <input type=\"file\" id=\"files-ece80729-35e1-4d3d-b24c-5ba7fa831a72\" name=\"files[]\" multiple disabled\n",
              "        style=\"border:none\" />\n",
              "     <output id=\"result-ece80729-35e1-4d3d-b24c-5ba7fa831a72\">\n",
              "      Upload widget is only available when the cell has been executed in the\n",
              "      current browser session. Please rerun this cell to enable.\n",
              "      </output>\n",
              "      <script src=\"/nbextensions/google.colab/files.js\"></script> "
            ],
            "text/plain": [
              "<IPython.core.display.HTML object>"
            ]
          },
          "metadata": {
            "tags": []
          }
        },
        {
          "output_type": "stream",
          "text": [
            "Saving kaggle.json to kaggle.json\n"
          ],
          "name": "stdout"
        },
        {
          "output_type": "execute_result",
          "data": {
            "text/plain": [
              "{'kaggle.json': b'{\"username\":\"veronicaastorino\",\"key\":\"d70bec0f4a36fef2eb100d1b63c71351\"}'}"
            ]
          },
          "metadata": {
            "tags": []
          },
          "execution_count": 2
        }
      ]
    },
    {
      "cell_type": "code",
      "metadata": {
        "id": "s_IiFb-TXiN6"
      },
      "source": [
        "! mkdir ~/.kaggle\n",
        "! cp kaggle.json ~/.kaggle/\n",
        "! chmod 600 ~/.kaggle/kaggle.json"
      ],
      "execution_count": null,
      "outputs": []
    },
    {
      "cell_type": "code",
      "metadata": {
        "colab": {
          "base_uri": "https://localhost:8080/"
        },
        "id": "odGm6rUvXiJm",
        "outputId": "b71940ff-3f57-47d8-fb4c-f23857c637fa"
      },
      "source": [
        "!kaggle datasets download -d stackoverflow/stacksample -p ./data"
      ],
      "execution_count": null,
      "outputs": [
        {
          "output_type": "stream",
          "text": [
            "Downloading stacksample.zip to ./data\n",
            "100% 1.11G/1.11G [00:43<00:00, 49.4MB/s]\n",
            "100% 1.11G/1.11G [00:43<00:00, 27.1MB/s]\n"
          ],
          "name": "stdout"
        }
      ]
    },
    {
      "cell_type": "code",
      "metadata": {
        "colab": {
          "base_uri": "https://localhost:8080/"
        },
        "id": "FOMTg6QJXmci",
        "outputId": "f1791b87-51dd-4ab6-a86a-1ae7bef4ce5f"
      },
      "source": [
        "!unzip ./data/stacksample.zip"
      ],
      "execution_count": null,
      "outputs": [
        {
          "output_type": "stream",
          "text": [
            "Archive:  ./data/stacksample.zip\n",
            "  inflating: Answers.csv             \n",
            "  inflating: Questions.csv           \n",
            "  inflating: Tags.csv                \n"
          ],
          "name": "stdout"
        }
      ]
    },
    {
      "cell_type": "code",
      "metadata": {
        "colab": {
          "base_uri": "https://localhost:8080/"
        },
        "id": "5GEGqgLXXoTf",
        "outputId": "a1d1d5cb-50e5-4980-8e83-4d99ba9477d3"
      },
      "source": [
        "!apt-get install openjdk-8-jdk-headless -qq > /dev/null\n",
        "!wget -q https://www-us.apache.org/dist/spark/spark-3.1.1/spark-3.1.1-bin-hadoop2.7.tgz \n",
        "!tar xf spark-3.1.1-bin-hadoop2.7.tgz\n",
        "\n",
        "!pip install -q findspark\n",
        "!pip install pyspark"
      ],
      "execution_count": null,
      "outputs": [
        {
          "output_type": "stream",
          "text": [
            "Collecting pyspark\n",
            "\u001b[?25l  Downloading https://files.pythonhosted.org/packages/89/db/e18cfd78e408de957821ec5ca56de1250645b05f8523d169803d8df35a64/pyspark-3.1.2.tar.gz (212.4MB)\n",
            "\u001b[K     |████████████████████████████████| 212.4MB 68kB/s \n",
            "\u001b[?25hCollecting py4j==0.10.9\n",
            "\u001b[?25l  Downloading https://files.pythonhosted.org/packages/9e/b6/6a4fb90cd235dc8e265a6a2067f2a2c99f0d91787f06aca4bcf7c23f3f80/py4j-0.10.9-py2.py3-none-any.whl (198kB)\n",
            "\u001b[K     |████████████████████████████████| 204kB 11.4MB/s \n",
            "\u001b[?25hBuilding wheels for collected packages: pyspark\n",
            "  Building wheel for pyspark (setup.py) ... \u001b[?25l\u001b[?25hdone\n",
            "  Created wheel for pyspark: filename=pyspark-3.1.2-py2.py3-none-any.whl size=212880768 sha256=ad7cc55564751663e3b501ee645d9600ba927171adf3fef2eca1f4405d93d530\n",
            "  Stored in directory: /root/.cache/pip/wheels/40/1b/2c/30f43be2627857ab80062bef1527c0128f7b4070b6b2d02139\n",
            "Successfully built pyspark\n",
            "Installing collected packages: py4j, pyspark\n",
            "Successfully installed py4j-0.10.9 pyspark-3.1.2\n"
          ],
          "name": "stdout"
        }
      ]
    },
    {
      "cell_type": "code",
      "metadata": {
        "id": "NJwbiJk6XqHO"
      },
      "source": [
        "import os\n",
        "os.environ[\"JAVA_HOME\"] = \"/usr/lib/jvm/java-8-openjdk-amd64\"\n",
        "os.environ[\"SPARK_HOME\"] = \"/content/spark-3.1.1-bin-hadoop2.7\""
      ],
      "execution_count": null,
      "outputs": []
    },
    {
      "cell_type": "code",
      "metadata": {
        "id": "KAml0ty_Xu1e"
      },
      "source": [
        "!apt-get install openjdk-8-jdk-headless -qq > /dev/null\n",
        "!wget -q http://www-eu.apache.org/dist/spark/spark-3.1.1/spark-3.1.1-bin-hadoop2.7.tgz\n",
        "!tar xf spark-3.1.1-bin-hadoop2.7.tgz\n",
        "!pip install -q findspark"
      ],
      "execution_count": null,
      "outputs": []
    },
    {
      "cell_type": "code",
      "metadata": {
        "id": "8kQ9dxvXXiFM"
      },
      "source": [
        "import findspark\n",
        "findspark.init(\"spark-3.1.1-bin-hadoop2.7\")\n",
        "from pyspark.sql import SparkSession\n",
        "spark = SparkSession.builder.master(\"local[*]\").getOrCreate()\n",
        "\n",
        "sc = spark.sparkContext"
      ],
      "execution_count": 3,
      "outputs": []
    },
    {
      "cell_type": "code",
      "metadata": {
        "colab": {
          "base_uri": "https://localhost:8080/"
        },
        "id": "PVcBD5Zu6G_n",
        "outputId": "66eadb8c-47f6-427c-8031-8db1617b3d90"
      },
      "source": [
        "df = spark.read\\\n",
        "  .option(\"multiLine\", \"true\")\\\n",
        "  .option(\"header\", \"true\")\\\n",
        "  .option(\"escape\", \"\\\"\")\\\n",
        "  .csv(\"Questions.csv\")\\\n",
        "  .select(\"Id\",\"Body\")\n",
        "\n",
        "df.show(10)"
      ],
      "execution_count": 4,
      "outputs": [
        {
          "output_type": "stream",
          "text": [
            "+---+--------------------+\n",
            "| Id|                Body|\n",
            "+---+--------------------+\n",
            "| 80|<p>I've written a...|\n",
            "| 90|<p>Are there any ...|\n",
            "|120|<p>Has anyone got...|\n",
            "|180|<p>This is someth...|\n",
            "|260|<p>I have a littl...|\n",
            "|330|<p>I am working o...|\n",
            "|470|<p>I've been writ...|\n",
            "|580|<p>I wonder how y...|\n",
            "|650|<p>I would like t...|\n",
            "|810|<p>I'm trying to ...|\n",
            "+---+--------------------+\n",
            "only showing top 10 rows\n",
            "\n"
          ],
          "name": "stdout"
        }
      ]
    },
    {
      "cell_type": "code",
      "metadata": {
        "colab": {
          "base_uri": "https://localhost:8080/"
        },
        "id": "1EKszsJTYqYC",
        "outputId": "3d92f71b-5c80-4967-94e0-9e5bc63809f9"
      },
      "source": [
        "df.count()"
      ],
      "execution_count": null,
      "outputs": [
        {
          "output_type": "execute_result",
          "data": {
            "text/plain": [
              "1264216"
            ]
          },
          "metadata": {
            "tags": []
          },
          "execution_count": 11
        }
      ]
    },
    {
      "cell_type": "code",
      "metadata": {
        "id": "z7h7r5RAYvF5"
      },
      "source": [
        "from pyspark.sql.functions import col, lower, regexp_replace, split\n",
        "\n",
        "def clean_text(c):\n",
        "  c = lower(c)\n",
        "  c = regexp_replace(c, \"^rt \", \"\")\n",
        "  c = regexp_replace(c, \"<p>\", \"\")\n",
        "  c = regexp_replace(c, \"</p>\", \"\")\n",
        "  c = regexp_replace(c, \"(https?\\://)\\S+\", \"\")\n",
        "  c = regexp_replace(c, \"[^a-zA-Z0-9\\\\s]\", \"\")\n",
        "  return c\n",
        "\n",
        "clean_text_df = df.select('Id',clean_text(col(\"Body\")).alias(\"Body\"))"
      ],
      "execution_count": 6,
      "outputs": []
    },
    {
      "cell_type": "code",
      "metadata": {
        "colab": {
          "base_uri": "https://localhost:8080/"
        },
        "id": "MFCUQBxBY1Td",
        "outputId": "dda1030f-d7b9-4a11-9437-72fe4ec3fc9c"
      },
      "source": [
        "clean_text_df.show()"
      ],
      "execution_count": 7,
      "outputs": [
        {
          "output_type": "stream",
          "text": [
            "+----+--------------------+\n",
            "|  Id|                Body|\n",
            "+----+--------------------+\n",
            "|  80|ive written a dat...|\n",
            "|  90|are there any rea...|\n",
            "| 120|has anyone got ex...|\n",
            "| 180|this is something...|\n",
            "| 260|i have a little g...|\n",
            "| 330|i am working on a...|\n",
            "| 470|ive been writing ...|\n",
            "| 580|i wonder how you ...|\n",
            "| 650|i would like the ...|\n",
            "| 810|im trying to main...|\n",
            "| 930|whats the simples...|\n",
            "|1010|i need to grab th...|\n",
            "|1040|im looking for a ...|\n",
            "|1070|what is the corre...|\n",
            "|1160|i am using ccnet ...|\n",
            "|1180|i am looking to a...|\n",
            "|1300|i am using msbuil...|\n",
            "|1390|im setting up a d...|\n",
            "|1600|i always create a...|\n",
            "|1610|if im adding a co...|\n",
            "+----+--------------------+\n",
            "only showing top 20 rows\n",
            "\n"
          ],
          "name": "stdout"
        }
      ]
    },
    {
      "cell_type": "code",
      "metadata": {
        "colab": {
          "base_uri": "https://localhost:8080/"
        },
        "id": "d2B5ME7T6zT7",
        "outputId": "02635064-b247-4c6e-d9c0-6bb9b19d6de0"
      },
      "source": [
        "#tokenizer text\n",
        "from pyspark.ml.feature import Tokenizer\n",
        "\n",
        "tokenizer = Tokenizer(inputCol=\"Body\", outputCol=\"vector\")\n",
        "vector_df = tokenizer.transform(clean_text_df)\n",
        "\n",
        "vector_df.printSchema()\n",
        "vector_df.show(10)"
      ],
      "execution_count": 8,
      "outputs": [
        {
          "output_type": "stream",
          "text": [
            "root\n",
            " |-- Id: string (nullable = true)\n",
            " |-- Body: string (nullable = true)\n",
            " |-- vector: array (nullable = true)\n",
            " |    |-- element: string (containsNull = true)\n",
            "\n",
            "+---+--------------------+--------------------+\n",
            "| Id|                Body|              vector|\n",
            "+---+--------------------+--------------------+\n",
            "| 80|ive written a dat...|[ive, written, a,...|\n",
            "| 90|are there any rea...|[are, there, any,...|\n",
            "|120|has anyone got ex...|[has, anyone, got...|\n",
            "|180|this is something...|[this, is, someth...|\n",
            "|260|i have a little g...|[i, have, a, litt...|\n",
            "|330|i am working on a...|[i, am, working, ...|\n",
            "|470|ive been writing ...|[ive, been, writi...|\n",
            "|580|i wonder how you ...|[i, wonder, how, ...|\n",
            "|650|i would like the ...|[i, would, like, ...|\n",
            "|810|im trying to main...|[im, trying, to, ...|\n",
            "+---+--------------------+--------------------+\n",
            "only showing top 10 rows\n",
            "\n"
          ],
          "name": "stdout"
        }
      ]
    },
    {
      "cell_type": "code",
      "metadata": {
        "colab": {
          "base_uri": "https://localhost:8080/"
        },
        "id": "XkLy-z4x7GyI",
        "outputId": "d3df8a4a-7815-4bd5-ee4f-00c6ec59ba7f"
      },
      "source": [
        "#removing stopwords\n",
        "from pyspark.ml.feature import StopWordsRemover\n",
        "\n",
        "# Define a list of stop words or use default list\n",
        "remover = StopWordsRemover()\n",
        "stopwords = remover.getStopWords() \n",
        "\n",
        "# Display default list\n",
        "stopwords[:10]"
      ],
      "execution_count": 9,
      "outputs": [
        {
          "output_type": "execute_result",
          "data": {
            "text/plain": [
              "['i', 'me', 'my', 'myself', 'we', 'our', 'ours', 'ourselves', 'you', 'your']"
            ]
          },
          "metadata": {
            "tags": []
          },
          "execution_count": 9
        }
      ]
    },
    {
      "cell_type": "code",
      "metadata": {
        "colab": {
          "base_uri": "https://localhost:8080/"
        },
        "id": "cJVbLDsP7LDg",
        "outputId": "44cce7cd-138f-4dbb-c7f5-9942f511837a"
      },
      "source": [
        "# Specify input/output columns\n",
        "remover.setInputCol(\"vector\")\n",
        "remover.setOutputCol(\"vector_no_stopw\")\n",
        "\n",
        "# Transform existing dataframe with the StopWordsRemover\n",
        "vector_no_stopw_df = remover.transform(vector_df)\n",
        "\n",
        "# Display\n",
        "vector_no_stopw_df.printSchema()\n",
        "vector_no_stopw_df.show()"
      ],
      "execution_count": 10,
      "outputs": [
        {
          "output_type": "stream",
          "text": [
            "root\n",
            " |-- Id: string (nullable = true)\n",
            " |-- Body: string (nullable = true)\n",
            " |-- vector: array (nullable = true)\n",
            " |    |-- element: string (containsNull = true)\n",
            " |-- vector_no_stopw: array (nullable = true)\n",
            " |    |-- element: string (containsNull = true)\n",
            "\n",
            "+----+--------------------+--------------------+--------------------+\n",
            "|  Id|                Body|              vector|     vector_no_stopw|\n",
            "+----+--------------------+--------------------+--------------------+\n",
            "|  80|ive written a dat...|[ive, written, a,...|[ive, written, da...|\n",
            "|  90|are there any rea...|[are, there, any,...|[really, good, tu...|\n",
            "| 120|has anyone got ex...|[has, anyone, got...|[anyone, got, exp...|\n",
            "| 180|this is something...|[this, is, someth...|[something, ive, ...|\n",
            "| 260|i have a little g...|[i, have, a, litt...|[little, game, wr...|\n",
            "| 330|i am working on a...|[i, am, working, ...|[working, collect...|\n",
            "| 470|ive been writing ...|[ive, been, writi...|[ive, writing, we...|\n",
            "| 580|i wonder how you ...|[i, wonder, how, ...|[wonder, guys, ma...|\n",
            "| 650|i would like the ...|[i, would, like, ...|[like, version, p...|\n",
            "| 810|im trying to main...|[im, trying, to, ...|[im, trying, main...|\n",
            "| 930|whats the simples...|[whats, the, simp...|[whats, simplest,...|\n",
            "|1010|i need to grab th...|[i, need, to, gra...|[need, grab, base...|\n",
            "|1040|im looking for a ...|[im, looking, for...|[im, looking, way...|\n",
            "|1070|what is the corre...|[what, is, the, c...|[correct, way, ge...|\n",
            "|1160|i am using ccnet ...|[i, am, using, cc...|[using, ccnet, sa...|\n",
            "|1180|i am looking to a...|[i, am, looking, ...|[looking, allow, ...|\n",
            "|1300|i am using msbuil...|[i, am, using, ms...|[using, msbuild, ...|\n",
            "|1390|im setting up a d...|[im, setting, up,...|[im, setting, ded...|\n",
            "|1600|i always create a...|[i, always, creat...|[always, create, ...|\n",
            "|1610|if im adding a co...|[if, im, adding, ...|[im, adding, colu...|\n",
            "+----+--------------------+--------------------+--------------------+\n",
            "only showing top 20 rows\n",
            "\n"
          ],
          "name": "stdout"
        }
      ]
    },
    {
      "cell_type": "code",
      "metadata": {
        "colab": {
          "base_uri": "https://localhost:8080/"
        },
        "id": "2wdzPb7U7N-A",
        "outputId": "78fd04dd-672d-42e5-c7d2-628b78cc0b63"
      },
      "source": [
        "#To reduce the chance of collision, we can increase the target feature dimension, i.e., the number of buckets of the hash table. \n",
        "#The default feature dimension is 2^20=1,048,576. (the other model 8= 2^3)\n",
        "from pyspark.ml.feature import HashingTF, IDF, Tokenizer\n",
        "hashingTF = HashingTF(inputCol=\"vector_no_stopw\", outputCol=\"rawFeatures\", numFeatures=100000)\n",
        "\n",
        "featurized_data = hashingTF.transform(vector_no_stopw_df)\n",
        "idf = IDF(inputCol=\"rawFeatures\", outputCol=\"features\")\n",
        "idfModel = idf.fit(featurized_data)\n",
        "TfIdfData = idfModel.transform(featurized_data)\n",
        "TfIdfData.show()"
      ],
      "execution_count": 11,
      "outputs": [
        {
          "output_type": "stream",
          "text": [
            "+----+--------------------+--------------------+--------------------+--------------------+--------------------+\n",
            "|  Id|                Body|              vector|     vector_no_stopw|         rawFeatures|            features|\n",
            "+----+--------------------+--------------------+--------------------+--------------------+--------------------+\n",
            "|  80|ive written a dat...|[ive, written, a,...|[ive, written, da...|(100000,[585,3835...|(100000,[585,3835...|\n",
            "|  90|are there any rea...|[are, there, any,...|[really, good, tu...|(100000,[2543,162...|(100000,[2543,162...|\n",
            "| 120|has anyone got ex...|[has, anyone, got...|[anyone, got, exp...|(100000,[2143,399...|(100000,[2143,399...|\n",
            "| 180|this is something...|[this, is, someth...|[something, ive, ...|(100000,[6056,606...|(100000,[6056,606...|\n",
            "| 260|i have a little g...|[i, have, a, litt...|[little, game, wr...|(100000,[585,2144...|(100000,[585,2144...|\n",
            "| 330|i am working on a...|[i, am, working, ...|[working, collect...|(100000,[585,2869...|(100000,[585,2869...|\n",
            "| 470|ive been writing ...|[ive, been, writi...|[ive, writing, we...|(100000,[853,2252...|(100000,[853,2252...|\n",
            "| 580|i wonder how you ...|[i, wonder, how, ...|[wonder, guys, ma...|(100000,[4023,471...|(100000,[4023,471...|\n",
            "| 650|i would like the ...|[i, would, like, ...|[like, version, p...|(100000,[2143,280...|(100000,[2143,280...|\n",
            "| 810|im trying to main...|[im, trying, to, ...|[im, trying, main...|(100000,[1915,214...|(100000,[1915,214...|\n",
            "| 930|whats the simples...|[whats, the, simp...|[whats, simplest,...|(100000,[13768,32...|(100000,[13768,32...|\n",
            "|1010|i need to grab th...|[i, need, to, gra...|[need, grab, base...|(100000,[2475,254...|(100000,[2475,254...|\n",
            "|1040|im looking for a ...|[im, looking, for...|[im, looking, way...|(100000,[8040,109...|(100000,[8040,109...|\n",
            "|1070|what is the corre...|[what, is, the, c...|[correct, way, ge...|(100000,[8040,163...|(100000,[8040,163...|\n",
            "|1160|i am using ccnet ...|[i, am, using, cc...|[using, ccnet, sa...|(100000,[9656,104...|(100000,[9656,104...|\n",
            "|1180|i am looking to a...|[i, am, looking, ...|[looking, allow, ...|(100000,[1463,247...|(100000,[1463,247...|\n",
            "|1300|i am using msbuil...|[i, am, using, ms...|[using, msbuild, ...|(100000,[4023,605...|(100000,[4023,605...|\n",
            "|1390|im setting up a d...|[im, setting, up,...|[im, setting, ded...|(100000,[4023,937...|(100000,[4023,937...|\n",
            "|1600|i always create a...|[i, always, creat...|[always, create, ...|(100000,[585,9530...|(100000,[585,9530...|\n",
            "|1610|if im adding a co...|[if, im, adding, ...|[im, adding, colu...|(100000,[4023,831...|(100000,[4023,831...|\n",
            "+----+--------------------+--------------------+--------------------+--------------------+--------------------+\n",
            "only showing top 20 rows\n",
            "\n"
          ],
          "name": "stdout"
        }
      ]
    },
    {
      "cell_type": "code",
      "metadata": {
        "colab": {
          "base_uri": "https://localhost:8080/"
        },
        "id": "DOjS3WuN7eJy",
        "outputId": "d5f30f3d-e138-47cc-ecac-91868b430b72"
      },
      "source": [
        "#MinHashLSH\n",
        "from pyspark.ml.feature import MinHashLSH\n",
        "mh = MinHashLSH(inputCol=\"features\", outputCol=\"hashes\", numHashTables=5)\n",
        "LSHmodel = mh.fit(TfIdfData)\n",
        "\n",
        "LSH = LSHmodel.transform(TfIdfData)\n",
        "LSH.show()"
      ],
      "execution_count": 12,
      "outputs": [
        {
          "output_type": "stream",
          "text": [
            "+----+--------------------+--------------------+--------------------+--------------------+--------------------+--------------------+\n",
            "|  Id|                Body|              vector|     vector_no_stopw|         rawFeatures|            features|              hashes|\n",
            "+----+--------------------+--------------------+--------------------+--------------------+--------------------+--------------------+\n",
            "|  80|ive written a dat...|[ive, written, a,...|[ive, written, da...|(100000,[585,3835...|(100000,[585,3835...|[[429673.0], [2.0...|\n",
            "|  90|are there any rea...|[are, there, any,...|[really, good, tu...|(100000,[2543,162...|(100000,[2543,162...|[[7.2795738E7], [...|\n",
            "| 120|has anyone got ex...|[has, anyone, got...|[anyone, got, exp...|(100000,[2143,399...|(100000,[2143,399...|[[9427095.0], [6....|\n",
            "| 180|this is something...|[this, is, someth...|[something, ive, ...|(100000,[6056,606...|(100000,[6056,606...|[[2.605491E7], [2...|\n",
            "| 260|i have a little g...|[i, have, a, litt...|[little, game, wr...|(100000,[585,2144...|(100000,[585,2144...|[[1.094542E7], [2...|\n",
            "| 330|i am working on a...|[i, am, working, ...|[working, collect...|(100000,[585,2869...|(100000,[585,2869...|[[429673.0], [3.8...|\n",
            "| 470|ive been writing ...|[ive, been, writi...|[ive, writing, we...|(100000,[853,2252...|(100000,[853,2252...|[[2135875.0], [2....|\n",
            "| 580|i wonder how you ...|[i, wonder, how, ...|[wonder, guys, ma...|(100000,[4023,471...|(100000,[4023,471...|[[429673.0], [708...|\n",
            "| 650|i would like the ...|[i, would, like, ...|[like, version, p...|(100000,[2143,280...|(100000,[2143,280...|[[2.9082812E7], [...|\n",
            "| 810|im trying to main...|[im, trying, to, ...|[im, trying, main...|(100000,[1915,214...|(100000,[1915,214...|[[5686453.0], [1....|\n",
            "| 930|whats the simples...|[whats, the, simp...|[whats, simplest,...|(100000,[13768,32...|(100000,[13768,32...|[[1.48574207E8], ...|\n",
            "|1010|i need to grab th...|[i, need, to, gra...|[need, grab, base...|(100000,[2475,254...|(100000,[2475,254...|[[9427095.0], [1....|\n",
            "|1040|im looking for a ...|[im, looking, for...|[im, looking, way...|(100000,[8040,109...|(100000,[8040,109...|[[1.2887015E7], [...|\n",
            "|1070|what is the corre...|[what, is, the, c...|[correct, way, ge...|(100000,[8040,163...|(100000,[8040,163...|[[3.33755968E8], ...|\n",
            "|1160|i am using ccnet ...|[i, am, using, cc...|[using, ccnet, sa...|(100000,[9656,104...|(100000,[9656,104...|[[2.946294E7], [8...|\n",
            "|1180|i am looking to a...|[i, am, looking, ...|[looking, allow, ...|(100000,[1463,247...|(100000,[1463,247...|[[5.12028E7], [7....|\n",
            "|1300|i am using msbuil...|[i, am, using, ms...|[using, msbuild, ...|(100000,[4023,605...|(100000,[4023,605...|[[4.4190115E7], [...|\n",
            "|1390|im setting up a d...|[im, setting, up,...|[im, setting, ded...|(100000,[4023,937...|(100000,[4023,937...|[[4.8168337E7], [...|\n",
            "|1600|i always create a...|[i, always, creat...|[always, create, ...|(100000,[585,9530...|(100000,[585,9530...|[[1.48150937E8], ...|\n",
            "|1610|if im adding a co...|[if, im, adding, ...|[im, adding, colu...|(100000,[4023,831...|(100000,[4023,831...|[[3.1927211E7], [...|\n",
            "+----+--------------------+--------------------+--------------------+--------------------+--------------------+--------------------+\n",
            "only showing top 20 rows\n",
            "\n"
          ],
          "name": "stdout"
        }
      ]
    },
    {
      "cell_type": "code",
      "metadata": {
        "id": "wuwglgmKIXo7"
      },
      "source": [
        "from pyspark.ml.linalg import Vectors\n",
        "key = Vectors.sparse(6, [1, 3], [1.0, 1.0])"
      ],
      "execution_count": 18,
      "outputs": []
    },
    {
      "cell_type": "code",
      "metadata": {
        "colab": {
          "base_uri": "https://localhost:8080/"
        },
        "id": "kE6-hDwCNEfn",
        "outputId": "9916d7eb-0fb3-4bb1-aea0-30ea0b6324c7"
      },
      "source": [
        "LSHmodel.approxNearestNeighbors(TfIdfData, key, 10).show()"
      ],
      "execution_count": 19,
      "outputs": [
        {
          "output_type": "stream",
          "text": [
            "+--------+--------------------+--------------------+--------------------+--------------------+--------------------+--------------------+------------------+\n",
            "|      Id|                Body|              vector|     vector_no_stopw|         rawFeatures|            features|              hashes|           distCol|\n",
            "+--------+--------------------+--------------------+--------------------+--------------------+--------------------+--------------------+------------------+\n",
            "|20874280|why wont the belo...|[why, wont, the, ...|[wont, make, var,...|(100000,[3,9043,1...|(100000,[3,9043,1...|[[3.8890193E7], [...|0.9285714285714286|\n",
            "|32726280|i have been runni...|[i, have, been, r...|[running, blank, ...|(100000,[3,668,41...|(100000,[3,668,41...|[[3.8890193E7], [...|0.9333333333333333|\n",
            "|15190640|i am looking at s...|[i, am, looking, ...|[looking, c, code...|(100000,[1,28,573...|(100000,[1,28,573...|[[2.7236249E7], [...|0.9523809523809523|\n",
            "|29467680|i want to show a ...|[i, want, to, sho...|[want, show, cont...|(100000,[3,662,40...|(100000,[3,662,40...|[[3.8890193E7], [...|0.9545454545454546|\n",
            "|35148430|please can you he...|[please, can, you...|[please, help, dr...|(100000,[1,10960,...|(100000,[1,10960,...|[[4.6704089E7], [...|0.9583333333333334|\n",
            "| 7877270|is there an easy ...|[is, there, an, e...|[easy, way, targe...|(100000,[1,4043,6...|(100000,[1,4043,6...|[[429673.0], [6.4...|0.9642857142857143|\n",
            "|29482470|i have an existin...|[i, have, an, exi...|[existing, ios, a...|(100000,[3,8217,1...|(100000,[3,8217,1...|[[3.8890193E7], [...|0.9642857142857143|\n",
            "|24035510|i have this batch...|[i, have, this, b...|[batch, script, w...|(100000,[1,5813,6...|(100000,[1,5813,6...|[[7.2795738E7], [...| 0.972972972972973|\n",
            "|17631940|so i am right now...|[so, i, am, right...|[right, coding, t...|(100000,[3,3912,5...|(100000,[3,3912,5...|[[3.8890193E7], [...|0.9743589743589743|\n",
            "|16816300|i have data type ...|[i, have, data, t...|[data, type, , , ...|(100000,[1,2543,3...|(100000,[1,2543,3...|[[429673.0], [8.7...|             0.975|\n",
            "+--------+--------------------+--------------------+--------------------+--------------------+--------------------+--------------------+------------------+\n",
            "\n"
          ],
          "name": "stdout"
        }
      ]
    },
    {
      "cell_type": "code",
      "metadata": {
        "colab": {
          "base_uri": "https://localhost:8080/"
        },
        "id": "m8DjLRE9SEyK",
        "outputId": "70b59ed2-3787-4b58-8132-2ed18cb890f3"
      },
      "source": [
        "LSH.select('vector').take(1)"
      ],
      "execution_count": 17,
      "outputs": [
        {
          "output_type": "execute_result",
          "data": {
            "text/plain": [
              "[Row(vector=['ive', 'written', 'a', 'database', 'generation', 'script', 'in', 'a', 'href', 'and', 'want', 'to', 'execute', 'it', 'in', 'my', 'a', 'href', 'aira', 'application', '', 'precodecreate', 'table', 'trole', '', '', '', '', '', '', '', 'roleid', 'integer', 'primary', 'key', '', '', '', '', '', '', 'rolename', 'varchar40', '', 'create', 'table', 'tfile', '', '', '', '', '', 'fileid', 'integer', 'primary', 'key', '', '', '', '', 'filename', 'varchar50', '', '', '', '', 'filedescription', 'varchar500', '', '', '', '', 'thumbnailid', 'integer', '', '', '', '', 'fileformatid', 'integer', '', '', '', '', 'categoryid', 'integer', '', '', '', '', 'isfavorite', 'boolean', '', '', '', '', 'dateadded', 'date', '', '', '', '', 'globalaccesscount', 'integer', '', '', '', '', 'lastaccesstime', 'date', '', '', '', '', 'downloadcomplete', 'boolean', '', '', '', '', 'isnew', 'boolean', '', '', '', '', 'isspotlight', 'boolean', '', '', '', '', 'duration', 'varchar30', '', 'create', 'table', 'tcategory', '', '', '', '', '', 'categoryid', 'integer', 'primary', 'key', '', '', '', '', 'categoryname', 'varchar50', '', '', '', '', 'parentcategoryid', 'integer', '', '', 'codepre', '', 'i', 'execute', 'this', 'in', 'adobe', 'air', 'using', 'the', 'following', 'methods', '', 'precodepublic', 'static', 'function', 'runsqlfromfilefilenamestringvoid', '', '', '', '', '', 'var', 'filefile', '', 'fileapplicationdirectoryresolvepathfilename', '', '', '', '', 'var', 'streamfilestream', '', 'new', 'filestream', '', '', '', '', 'streamopenfile', 'filemoderead', '', '', '', '', 'var', 'strsqlstring', '', 'streamreadutfbytesstreambytesavailable', '', '', '', '', 'nonquerystrsql', '', '', 'public', 'static', 'function', 'nonquerystrsqlstringvoid', '', '', '', '', '', 'var', 'sqlconnectionsqlconnection', '', 'new', 'sqlconnection', '', '', '', '', 'sqlconnectionopenfileapplicationstoragedirectoryresolvepathdbpath', '', '', '', '', 'var', 'sqlstatementsqlstatement', '', 'new', 'sqlstatement', '', '', '', '', 'sqlstatementtext', '', 'strsql', '', '', '', '', 'sqlstatementsqlconnection', '', 'sqlconnection', '', '', '', '', 'try', '', '', '', '', '', '', '', '', '', '', '', '', '', 'sqlstatementexecute', '', '', '', '', '', '', '', '', '', 'catch', 'errorsqlerror', '', '', '', '', '', '', '', '', '', '', '', '', '', 'alertshowerrortostring', '', '', '', '', '', '', 'codepre', '', 'no', 'errors', 'are', 'generated', 'however', 'only', 'codetrolecode', 'exists', 'it', 'seems', 'that', 'it', 'only', 'looks', 'at', 'the', 'first', 'query', 'up', 'to', 'the', 'semicolon', 'if', 'i', 'remove', 'it', 'the', 'query', 'fails', 'is', 'there', 'a', 'way', 'to', 'call', 'multiple', 'queries', 'in', 'one', 'statement'])]"
            ]
          },
          "metadata": {
            "tags": []
          },
          "execution_count": 17
        }
      ]
    },
    {
      "cell_type": "code",
      "metadata": {
        "id": "lnsQYTQyXuue",
        "colab": {
          "base_uri": "https://localhost:8080/"
        },
        "outputId": "f67bc690-aba6-4358-af19-9ee031b286e9"
      },
      "source": [
        "similar=LSHmodel.approxNearestNeighbors(TfIdfData, key, 10)\n",
        "similar.show()"
      ],
      "execution_count": 20,
      "outputs": [
        {
          "output_type": "stream",
          "text": [
            "+--------+--------------------+--------------------+--------------------+--------------------+--------------------+--------------------+------------------+\n",
            "|      Id|                Body|              vector|     vector_no_stopw|         rawFeatures|            features|              hashes|           distCol|\n",
            "+--------+--------------------+--------------------+--------------------+--------------------+--------------------+--------------------+------------------+\n",
            "|20874280|why wont the belo...|[why, wont, the, ...|[wont, make, var,...|(100000,[3,9043,1...|(100000,[3,9043,1...|[[3.8890193E7], [...|0.9285714285714286|\n",
            "|32726280|i have been runni...|[i, have, been, r...|[running, blank, ...|(100000,[3,668,41...|(100000,[3,668,41...|[[3.8890193E7], [...|0.9333333333333333|\n",
            "|15190640|i am looking at s...|[i, am, looking, ...|[looking, c, code...|(100000,[1,28,573...|(100000,[1,28,573...|[[2.7236249E7], [...|0.9523809523809523|\n",
            "|29467680|i want to show a ...|[i, want, to, sho...|[want, show, cont...|(100000,[3,662,40...|(100000,[3,662,40...|[[3.8890193E7], [...|0.9545454545454546|\n",
            "|35148430|please can you he...|[please, can, you...|[please, help, dr...|(100000,[1,10960,...|(100000,[1,10960,...|[[4.6704089E7], [...|0.9583333333333334|\n",
            "| 7877270|is there an easy ...|[is, there, an, e...|[easy, way, targe...|(100000,[1,4043,6...|(100000,[1,4043,6...|[[429673.0], [6.4...|0.9642857142857143|\n",
            "|29482470|i have an existin...|[i, have, an, exi...|[existing, ios, a...|(100000,[3,8217,1...|(100000,[3,8217,1...|[[3.8890193E7], [...|0.9642857142857143|\n",
            "|24035510|i have this batch...|[i, have, this, b...|[batch, script, w...|(100000,[1,5813,6...|(100000,[1,5813,6...|[[7.2795738E7], [...| 0.972972972972973|\n",
            "|17631940|so i am right now...|[so, i, am, right...|[right, coding, t...|(100000,[3,3912,5...|(100000,[3,3912,5...|[[3.8890193E7], [...|0.9743589743589743|\n",
            "|16816300|i have data type ...|[i, have, data, t...|[data, type, , , ...|(100000,[1,2543,3...|(100000,[1,2543,3...|[[429673.0], [8.7...|             0.975|\n",
            "+--------+--------------------+--------------------+--------------------+--------------------+--------------------+--------------------+------------------+\n",
            "\n"
          ],
          "name": "stdout"
        }
      ]
    },
    {
      "cell_type": "code",
      "metadata": {
        "id": "d5ldWOakTwlX"
      },
      "source": [
        ""
      ],
      "execution_count": null,
      "outputs": []
    },
    {
      "cell_type": "code",
      "metadata": {
        "id": "fPIGM_DCD0fI"
      },
      "source": [
        "sim=similar.filter((col(\"distCol\") <= 0.60))"
      ],
      "execution_count": 21,
      "outputs": []
    },
    {
      "cell_type": "code",
      "metadata": {
        "colab": {
          "base_uri": "https://localhost:8080/"
        },
        "id": "hWT--ngUOV6W",
        "outputId": "e8dbf37d-28e4-4c04-e4ac-181aaad7158b"
      },
      "source": [
        "similar.select('Body').show(truncate=False)"
      ],
      "execution_count": 24,
      "outputs": [
        {
          "output_type": "stream",
          "text": [
            "+------------------------------------------------------------------------------------------------------------------------------------------------------------------------------------------------------------------------------------------------------------------------------------------------------------------------------------------------------------------------------------------------------------------------------------------------------------------------------------------------------------------------------------------+\n",
            "|Body                                                                                                                                                                                                                                                                                                                                                                                                                                                                                                                                      |\n",
            "+------------------------------------------------------------------------------------------------------------------------------------------------------------------------------------------------------------------------------------------------------------------------------------------------------------------------------------------------------------------------------------------------------------------------------------------------------------------------------------------------------------------------------------------+\n",
            "|why wont the below make the var i  0 again and rerun through the loop\n",
            "\n",
            "precode  for var i  0 i lt menuitemslength i \n",
            "    if i  menuitemslength\n",
            "      i  0\n",
            "    \n",
            "    menuitemsidelay3000iqueuefunction \n",
            "      thistriggerclick\n",
            "       \n",
            "  \n",
            "codepre\n",
            "                                                                                                                                                                                                                                                                                          |\n",
            "|i have been running a blank app template app on watch os 20 and put debug break points in the interfacecontroller and it appears that it is not working \n",
            "                                                                                                                                                                                                                                                                                                                                                                                 |\n",
            "|i am looking at some c code that holds an array of names of other functions in the program\n",
            "\n",
            "precodemytypedef myarrayname3funcone functwo functhree\n",
            "codepre\n",
            "\n",
            "how can i use gdb to learn how many bytes each slot in the array is\n",
            "                                                                                                                                                                                                                                                                                                          |\n",
            "|i want to show a context menu on tapping glancebr\n",
            "i am using a user activity method in interfacecontroller which handles tapping on glance \n",
            "\n",
            "is there any way to show a context menu programatically without force touch \n",
            "\n",
            "any help would be appreciated\n",
            "                                                                                                                                                                                                                                                                                 |\n",
            "|please can you help me to drag  and drop filetxt in j2ee application instead of using browse button\n",
            "\n",
            "actually i just thought to implement this in my webapplication could anyone suggest which jar to be used or any hintsmy webapplication is developed using struts2\n",
            "                                                                                                                                                                                                                                                                   |\n",
            "|i have an existing ios app and i am adding watchkit support to the app i installed the afnetworking library using cocoapods and now i am trying to include that in the interfacecontroller using the line codeimport afnetworkinghcode \n",
            "\n",
            "this is giving me the error  codeafnetworkingh file not foundcode i tried reinstalling the pods but that did not work \n",
            "                                                                                                                                                                          |\n",
            "|is there an easy way to target all 3rd layer elements\n",
            "\n",
            "for example my right column layout is as follows\n",
            "\n",
            "precodeltdiv classrightcolumngt\n",
            " ltdiv classmodulegt\n",
            "  ltdivgt\n",
            "   ltpgtltpgt\n",
            "  ltdivgt\n",
            " ltdivgt\n",
            "\n",
            " ltdiv classdifferentmodulegt\n",
            "  ltdivgt\n",
            "   ltpgtltpgt\n",
            "  ltdivgt\n",
            " ltdivgt\n",
            "ltdivgt\n",
            "codepre\n",
            "\n",
            "how do i target both nonclassed codeltdivgtcode elements in this instance without specifying each one individually\n",
            "                                                                                                                   |\n",
            "|i have this batch script but it works on few files and sometimes not i dont understand where the error is is there any way that i can test that tehscript has run  on all the files\n",
            "\n",
            "precodeecho offampcls\n",
            "setlocal enabledelayedexpansion\n",
            "for f tokens14 delims a in dir b ad jpg do \n",
            "echo abcd\n",
            "set charb\n",
            "set charfchar04char42char62char82char102char122\n",
            "echo charf\n",
            "ren abcd accharfd\n",
            "\n",
            "codepre\n",
            "\n",
            "strongfilestrong \n",
            "\n",
            "precodenoname20140603133008976doncasterjpg\n",
            "noname20140603132507734doncasterjpg\n",
            "codepre\n",
            "                              |\n",
            "|so i am right now coding a twitter like news feed but the problem is that my own posts shows 4 times before the post there is 4 entries in following i think thats why its showing my posts 4 time\n",
            "\n",
            "precodeselect  \n",
            "from following as f posts as p \n",
            "where ppostuserid  1 or \n",
            "      ffollowerid  ppostuserid and fuserid  1 \n",
            "order by  pposttime desc \n",
            "codepre\n",
            "\n",
            "so this is my code at the moment though i think its wrong since itll show my posts 4 times how can i fix this\n",
            "                                                             |\n",
            "|i have data type \n",
            "\n",
            "precodedata stuff s  stuff  name  s idx  int  \n",
            "codepre\n",
            "\n",
            "and want to make this into a monoid w the following implementations\n",
            "\n",
            "precodetmappend  stuff s gt stuff t gt stuff st \n",
            "tmappend s1 s2  stuff name s1 name s2 idx s1  idx s2\n",
            "\n",
            "tzero  stuff \n",
            "tzero   stuff  0\n",
            "codepre\n",
            "\n",
            "note its possible to get arbitrarily nested tuples through codemconcatcode \n",
            "\n",
            "but tmappend is currently violating the type signature of codemappendcode is this actually a monoid can it be made into one with a better type representation\n",
            "|\n",
            "+------------------------------------------------------------------------------------------------------------------------------------------------------------------------------------------------------------------------------------------------------------------------------------------------------------------------------------------------------------------------------------------------------------------------------------------------------------------------------------------------------------------------------------------+\n",
            "\n"
          ],
          "name": "stdout"
        }
      ]
    }
  ]
}